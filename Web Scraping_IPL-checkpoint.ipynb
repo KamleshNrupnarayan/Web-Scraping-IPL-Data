{
 "cells": [
  {
   "cell_type": "code",
   "execution_count": 1,
   "id": "7f06744f",
   "metadata": {},
   "outputs": [],
   "source": [
    "import requests\n",
    "from bs4 import BeautifulSoup\n",
    "import pandas as pd\n",
    "import os"
   ]
  },
  {
   "cell_type": "code",
   "execution_count": 2,
   "id": "ae18bace",
   "metadata": {},
   "outputs": [],
   "source": [
    "urlnew=[\"https://www.espncricinfo.com/series/indian-premier-league-2024-1410320/mumbai-indians-vs-royal-challengers-bengaluru-25th-match-1426263/full-scorecard\"]"
   ]
  },
  {
   "cell_type": "code",
   "execution_count": 8,
   "id": "5cf1b2cf",
   "metadata": {},
   "outputs": [],
   "source": [
    "def toss(url):\n",
    "    webpage = requests.get(url)\n",
    "    web = webpage.content\n",
    "    soup = BeautifulSoup(web,\"html.parser\")\n",
    "    for m in soup.find_all(\"td\"):\n",
    "        n=m.text\n",
    "        if \"elected\" in n:\n",
    "            print(n)"
   ]
  },
  {
   "cell_type": "code",
   "execution_count": 9,
   "id": "b617c04d",
   "metadata": {},
   "outputs": [
    {
     "name": "stdout",
     "output_type": "stream",
     "text": [
      "Mumbai Indians, elected to field first\n"
     ]
    }
   ],
   "source": [
    "toss = [toss(url) for url in urlnew]"
   ]
  },
  {
   "cell_type": "code",
   "execution_count": 13,
   "id": "a07989f7",
   "metadata": {},
   "outputs": [],
   "source": [
    "def matchwinner(url):\n",
    "    webpage = requests.get(url)\n",
    "    web = webpage.content\n",
    "    soup = BeautifulSoup(web,\"html.parser\")\n",
    "    for m in soup.find_all(\"p\", {\"class\" : \"ds-text-tight-s\"}):\n",
    "        for span in m.find_all(\"span\"):\n",
    "            print(span.text)"
   ]
  },
  {
   "cell_type": "code",
   "execution_count": 14,
   "id": "ac5d616a",
   "metadata": {},
   "outputs": [
    {
     "name": "stdout",
     "output_type": "stream",
     "text": [
      "MI won by 7 wickets (with 27 balls remaining)\n"
     ]
    }
   ],
   "source": [
    "winner = [matchwinner(url) for url in urlnew]"
   ]
  },
  {
   "cell_type": "code",
   "execution_count": 22,
   "id": "f0e0578e",
   "metadata": {},
   "outputs": [],
   "source": [
    "def score(url):\n",
    "    webpage = requests.get(url)\n",
    "    web = webpage.content\n",
    "    soup = BeautifulSoup(web,\"html.parser\")\n",
    "    for m in soup.find_all(\"div\", {\"class\" : \"ds-text-compact-m\"}):\n",
    "        for s in m.find_all(\"strong\"):\n",
    "            print(s.text)"
   ]
  },
  {
   "cell_type": "code",
   "execution_count": 23,
   "id": "0f5d7c05",
   "metadata": {},
   "outputs": [
    {
     "name": "stdout",
     "output_type": "stream",
     "text": [
      "196/8\n",
      "199/3\n"
     ]
    }
   ],
   "source": [
    "score = [score(url) for url in urlnew]"
   ]
  },
  {
   "cell_type": "code",
   "execution_count": 31,
   "id": "2cac5132",
   "metadata": {},
   "outputs": [],
   "source": [
    "def teamnames(url):\n",
    "    webpage = requests.get(url)\n",
    "    web = webpage.content\n",
    "    soup = BeautifulSoup(web,\"html.parser\")\n",
    "    for m in soup.find_all(\"span\", {\"class\" : \"ds-text-tight-l\"}):\n",
    "        print(m.text)"
   ]
  },
  {
   "cell_type": "code",
   "execution_count": 32,
   "id": "8df51080",
   "metadata": {},
   "outputs": [
    {
     "name": "stdout",
     "output_type": "stream",
     "text": [
      "Royal Challengers Bengaluru\n",
      "Mumbai Indians\n",
      "Unlocking the magic of Statsguru\n"
     ]
    }
   ],
   "source": [
    "teams = [teamnames(url) for url in urlnew]"
   ]
  },
  {
   "cell_type": "code",
   "execution_count": null,
   "id": "c86a784f",
   "metadata": {},
   "outputs": [],
   "source": []
  }
 ],
 "metadata": {
  "kernelspec": {
   "display_name": "Python 3 (ipykernel)",
   "language": "python",
   "name": "python3"
  },
  "language_info": {
   "codemirror_mode": {
    "name": "ipython",
    "version": 3
   },
   "file_extension": ".py",
   "mimetype": "text/x-python",
   "name": "python",
   "nbconvert_exporter": "python",
   "pygments_lexer": "ipython3",
   "version": "3.9.18"
  }
 },
 "nbformat": 4,
 "nbformat_minor": 5
}
